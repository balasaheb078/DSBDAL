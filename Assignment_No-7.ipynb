{
 "cells": [
  {
   "cell_type": "markdown",
   "metadata": {
    "id": "2HPYFAvFRYnp"
   },
   "source": [
    "**ASSIGNMENT NO: 07**"
   ]
  },
  {
   "cell_type": "markdown",
   "metadata": {
    "id": "AQwLa_VaV_hB"
   },
   "source": [
    "Title: Text Analytics\n",
    "1. Extract Sample document and apply following document preprocessing methods:\n",
    "Tokenization, POS Tagging, stop words removal, Stemming and Lemmatization.\n",
    "2. Create representation of document by calculating Term Frequency and Inverse Document\n",
    "Frequency."
   ]
  },
  {
   "cell_type": "markdown",
   "metadata": {
    "id": "-IHMKB-9Tt2l"
   },
   "source": [
    "#Section-A"
   ]
  },
  {
   "cell_type": "code",
   "execution_count": 5,
   "metadata": {
    "colab": {
     "base_uri": "https://localhost:8080/"
    },
    "executionInfo": {
     "elapsed": 1168,
     "status": "ok",
     "timestamp": 1713092913078,
     "user": {
      "displayName": "Balasaheb Hinge",
      "userId": "07326279445614467951"
     },
     "user_tz": -330
    },
    "id": "oUxlxAhrSwo4",
    "outputId": "b1d737bd-93fe-4a9f-e0ae-0706d819bdbe"
   },
   "outputs": [
    {
     "name": "stderr",
     "output_type": "stream",
     "text": [
      "[nltk_data] Downloading package punkt to\n",
      "[nltk_data]     C:\\Users\\Balasheb\\AppData\\Roaming\\nltk_data...\n",
      "[nltk_data]   Package punkt is already up-to-date!\n",
      "[nltk_data] Downloading package stopwords to\n",
      "[nltk_data]     C:\\Users\\Balasheb\\AppData\\Roaming\\nltk_data...\n",
      "[nltk_data]   Package stopwords is already up-to-date!\n",
      "[nltk_data] Downloading package wordnet to\n",
      "[nltk_data]     C:\\Users\\Balasheb\\AppData\\Roaming\\nltk_data...\n",
      "[nltk_data]   Package wordnet is already up-to-date!\n",
      "[nltk_data] Downloading package averaged_perceptron_tagger to\n",
      "[nltk_data]     C:\\Users\\Balasheb\\AppData\\Roaming\\nltk_data...\n",
      "[nltk_data]   Package averaged_perceptron_tagger is already up-to-\n",
      "[nltk_data]       date!\n"
     ]
    },
    {
     "data": {
      "text/plain": [
       "True"
      ]
     },
     "execution_count": 5,
     "metadata": {},
     "output_type": "execute_result"
    }
   ],
   "source": [
    "import nltk\n",
    "nltk.download('punkt')\n",
    "nltk.download('stopwords')\n",
    "nltk.download('wordnet')\n",
    "nltk.download('averaged_perceptron_tagger')"
   ]
  },
  {
   "cell_type": "markdown",
   "metadata": {
    "id": "wzX0Ek9MR2u7"
   },
   "source": [
    "Sample Sentences"
   ]
  },
  {
   "cell_type": "code",
   "execution_count": 1,
   "metadata": {
    "executionInfo": {
     "elapsed": 9,
     "status": "ok",
     "timestamp": 1713092730159,
     "user": {
      "displayName": "Balasaheb Hinge",
      "userId": "07326279445614467951"
     },
     "user_tz": -330
    },
    "id": "vjQ6_cx0RPrH"
   },
   "outputs": [],
   "source": [
    "sentence1 = \"I will walk 500 miles and I would walk 500 more. Just to be the man who walks a thousand miles to fall down at your door!\"\n",
    "sentence2 = \"I played the play playfully as the players were playing in the play with playfullness\""
   ]
  },
  {
   "cell_type": "markdown",
   "metadata": {
    "id": "Zy7oIe0wSLRf"
   },
   "source": [
    "Tokenization"
   ]
  },
  {
   "cell_type": "code",
   "execution_count": 2,
   "metadata": {
    "executionInfo": {
     "elapsed": 619,
     "status": "ok",
     "timestamp": 1713092820983,
     "user": {
      "displayName": "Balasaheb Hinge",
      "userId": "07326279445614467951"
     },
     "user_tz": -330
    },
    "id": "n15PQQS8SKkU"
   },
   "outputs": [],
   "source": [
    "from nltk import word_tokenize, sent_tokenize\n"
   ]
  },
  {
   "cell_type": "code",
   "execution_count": 3,
   "metadata": {
    "colab": {
     "base_uri": "https://localhost:8080/"
    },
    "executionInfo": {
     "elapsed": 728,
     "status": "ok",
     "timestamp": 1713092919087,
     "user": {
      "displayName": "Balasaheb Hinge",
      "userId": "07326279445614467951"
     },
     "user_tz": -330
    },
    "id": "YSElQ2zMSgi0",
    "outputId": "1a2d64f7-174e-470e-9cf9-5cc3b0629178"
   },
   "outputs": [
    {
     "name": "stdout",
     "output_type": "stream",
     "text": [
      "Tokenized words: ['I', 'will', 'walk', '500', 'miles', 'and', 'I', 'would', 'walk', '500', 'more', '.', 'Just', 'to', 'be', 'the', 'man', 'who', 'walks', 'a', 'thousand', 'miles', 'to', 'fall', 'down', 'at', 'your', 'door', '!']\n",
      "\n",
      "Tokenized sentences: ['I will walk 500 miles and I would walk 500 more.', 'Just to be the man who walks a thousand miles to fall down at your door!']\n"
     ]
    }
   ],
   "source": [
    "print('Tokenized words:', word_tokenize(sentence1))\n",
    "print('\\nTokenized sentences:', sent_tokenize(sentence1))"
   ]
  },
  {
   "cell_type": "markdown",
   "metadata": {
    "id": "YAWBcgc5TF0A"
   },
   "source": [
    "POS Tagging"
   ]
  },
  {
   "cell_type": "code",
   "execution_count": 7,
   "metadata": {
    "colab": {
     "base_uri": "https://localhost:8080/"
    },
    "executionInfo": {
     "elapsed": 419,
     "status": "ok",
     "timestamp": 1713092988714,
     "user": {
      "displayName": "Balasaheb Hinge",
      "userId": "07326279445614467951"
     },
     "user_tz": -330
    },
    "id": "fHXFcivnS5nR",
    "outputId": "3c5f7eae-0283-40fc-a8f5-d4f7959427e2"
   },
   "outputs": [
    {
     "name": "stdout",
     "output_type": "stream",
     "text": [
      "Tagging Parts of Speech: [('I', 'PRP'), ('will', 'MD'), ('walk', 'VB'), ('500', 'CD'), ('miles', 'NNS'), ('and', 'CC'), ('I', 'PRP'), ('would', 'MD'), ('walk', 'VB'), ('500', 'CD'), ('more', 'JJR'), ('.', '.'), ('Just', 'NNP'), ('to', 'TO'), ('be', 'VB'), ('the', 'DT'), ('man', 'NN'), ('who', 'WP'), ('walks', 'VBZ'), ('a', 'DT'), ('thousand', 'NN'), ('miles', 'NNS'), ('to', 'TO'), ('fall', 'VB'), ('down', 'RP'), ('at', 'IN'), ('your', 'PRP$'), ('door', 'NN'), ('!', '.'), ('I', 'PRP'), ('played', 'VBD'), ('the', 'DT'), ('play', 'NN'), ('playfully', 'RB'), ('as', 'IN'), ('the', 'DT'), ('players', 'NNS'), ('were', 'VBD'), ('playing', 'VBG'), ('in', 'IN'), ('the', 'DT'), ('play', 'NN'), ('with', 'IN'), ('playfullness', 'NN')]\n"
     ]
    }
   ],
   "source": [
    "from nltk import pos_tag\n",
    "token = word_tokenize(sentence1) + word_tokenize(sentence2)\n",
    "tagged = pos_tag(token)\n",
    "print(\"Tagging Parts of Speech:\", tagged)"
   ]
  },
  {
   "cell_type": "markdown",
   "metadata": {
    "id": "yuQteC8aTMeR"
   },
   "source": [
    "Stop-Words Removal"
   ]
  },
  {
   "cell_type": "code",
   "execution_count": 4,
   "metadata": {
    "colab": {
     "base_uri": "https://localhost:8080/"
    },
    "executionInfo": {
     "elapsed": 418,
     "status": "ok",
     "timestamp": 1713093049643,
     "user": {
      "displayName": "Balasaheb Hinge",
      "userId": "07326279445614467951"
     },
     "user_tz": -330
    },
    "id": "AvACZ_xtTKUl",
    "outputId": "912919fa-6ee6-4fc7-c4a2-93406844faa0"
   },
   "outputs": [
    {
     "name": "stdout",
     "output_type": "stream",
     "text": [
      "Unclean version: ['I', 'will', 'walk', '500', 'miles', 'and', 'I', 'would', 'walk', '500', 'more', '.', 'Just', 'to', 'be', 'the', 'man', 'who', 'walks', 'a', 'thousand', 'miles', 'to', 'fall', 'down', 'at', 'your', 'door', '!']\n",
      "\n",
      "Cleaned version: ['I', 'walk', '500', 'miles', 'I', 'would', 'walk', '500', '.', 'Just', 'man', 'walks', 'thousand', 'miles', 'fall', 'door', '!']\n"
     ]
    }
   ],
   "source": [
    "from nltk.corpus import stopwords\n",
    "stop_words = stopwords.words('english')\n",
    "token = word_tokenize(sentence1)\n",
    "cleaned_token = []\n",
    "for word in token:\n",
    "  if word not in stop_words:\n",
    "    cleaned_token.append(word)\n",
    "print('Unclean version:', token)\n",
    "print('\\nCleaned version:', cleaned_token)"
   ]
  },
  {
   "cell_type": "markdown",
   "metadata": {
    "id": "UGhL1c-1Tadr"
   },
   "source": [
    "Stemming"
   ]
  },
  {
   "cell_type": "code",
   "execution_count": 10,
   "metadata": {
    "colab": {
     "base_uri": "https://localhost:8080/"
    },
    "executionInfo": {
     "elapsed": 10,
     "status": "ok",
     "timestamp": 1713093090602,
     "user": {
      "displayName": "Balasaheb Hinge",
      "userId": "07326279445614467951"
     },
     "user_tz": -330
    },
    "id": "2R5mSuyHTZOs",
    "outputId": "c422f7cd-e1fe-4675-8519-835cd0bf7f98"
   },
   "outputs": [
    {
     "name": "stdout",
     "output_type": "stream",
     "text": [
      "i play the play play as the player were play in the play with playful\n"
     ]
    }
   ],
   "source": [
    "from nltk.stem import PorterStemmer\n",
    "stemmer = PorterStemmer()\n",
    "token = word_tokenize(sentence2)\n",
    "stemmed = [stemmer.stem(word) for word in token]\n",
    "print(\" \".join(stemmed))"
   ]
  },
  {
   "cell_type": "markdown",
   "metadata": {
    "id": "6sAgTdcZTl0b"
   },
   "source": [
    "Lemmatization"
   ]
  },
  {
   "cell_type": "code",
   "execution_count": 11,
   "metadata": {
    "colab": {
     "base_uri": "https://localhost:8080/"
    },
    "executionInfo": {
     "elapsed": 1919,
     "status": "ok",
     "timestamp": 1713093123229,
     "user": {
      "displayName": "Balasaheb Hinge",
      "userId": "07326279445614467951"
     },
     "user_tz": -330
    },
    "id": "AmvjF0-rTjbs",
    "outputId": "5bbf5939-7863-4de3-f458-52817405c899"
   },
   "outputs": [
    {
     "name": "stdout",
     "output_type": "stream",
     "text": [
      "I played the play playfully a the player were playing in the play with playfullness\n"
     ]
    }
   ],
   "source": [
    "from nltk.stem import WordNetLemmatizer\n",
    "lemmatizer = WordNetLemmatizer()\n",
    "token = word_tokenize(sentence2)\n",
    "lemmatized_output = [lemmatizer.lemmatize(word) for word in token]\n",
    "print(\" \".join(lemmatized_output))"
   ]
  },
  {
   "cell_type": "markdown",
   "metadata": {
    "id": "mZSgBkyUT01a"
   },
   "source": [
    "# Section-B"
   ]
  },
  {
   "cell_type": "code",
   "execution_count": 12,
   "metadata": {
    "executionInfo": {
     "elapsed": 1122,
     "status": "ok",
     "timestamp": 1713093231391,
     "user": {
      "displayName": "Balasaheb Hinge",
      "userId": "07326279445614467951"
     },
     "user_tz": -330
    },
    "id": "ltVYXvkNT4Ts"
   },
   "outputs": [],
   "source": [
    "import pandas as pd\n",
    "from sklearn.feature_extraction.text import TfidfVectorizer"
   ]
  },
  {
   "cell_type": "code",
   "execution_count": 13,
   "metadata": {
    "executionInfo": {
     "elapsed": 8,
     "status": "ok",
     "timestamp": 1713093251367,
     "user": {
      "displayName": "Balasaheb Hinge",
      "userId": "07326279445614467951"
     },
     "user_tz": -330
    },
    "id": "b8OhH7rEUET-"
   },
   "outputs": [],
   "source": [
    "documentA = 'The old oak tree stood tall in the middle of the forest, its branches reaching out like ancient fingers'\n",
    "documentB = 'The children laughed joyfully as they played in the park, their voices echoing through the trees'"
   ]
  },
  {
   "cell_type": "markdown",
   "metadata": {
    "id": "hn9U2aRiUOqq"
   },
   "source": [
    " Creating Bag of Words"
   ]
  },
  {
   "cell_type": "code",
   "execution_count": 14,
   "metadata": {
    "executionInfo": {
     "elapsed": 859,
     "status": "ok",
     "timestamp": 1713093296458,
     "user": {
      "displayName": "Balasaheb Hinge",
      "userId": "07326279445614467951"
     },
     "user_tz": -330
    },
    "id": "9azRJFkhUJd0"
   },
   "outputs": [],
   "source": [
    "bagOfWordsA = documentA.split(' ')\n",
    "bagOfWordsB = documentB.split(' ')"
   ]
  },
  {
   "cell_type": "code",
   "execution_count": 16,
   "metadata": {
    "executionInfo": {
     "elapsed": 636,
     "status": "ok",
     "timestamp": 1713093319889,
     "user": {
      "displayName": "Balasaheb Hinge",
      "userId": "07326279445614467951"
     },
     "user_tz": -330
    },
    "id": "YiSKdq4uUU1G"
   },
   "outputs": [],
   "source": [
    "uniqueWords = set(bagOfWordsA).union(set(bagOfWordsB))"
   ]
  },
  {
   "cell_type": "code",
   "execution_count": 19,
   "metadata": {
    "executionInfo": {
     "elapsed": 3,
     "status": "ok",
     "timestamp": 1713093395229,
     "user": {
      "displayName": "Balasaheb Hinge",
      "userId": "07326279445614467951"
     },
     "user_tz": -330
    },
    "id": "yH24pPxUUZeD"
   },
   "outputs": [],
   "source": [
    "numOfWordsA = dict.fromkeys(uniqueWords, 0)\n",
    "for word in bagOfWordsA:\n",
    "  numOfWordsA[word] += 1\n",
    "  numOfWordsB = dict.fromkeys(uniqueWords, 0)\n",
    "\n",
    "for word in bagOfWordsB:\n",
    "  numOfWordsB[word] += 1"
   ]
  },
  {
   "cell_type": "markdown",
   "metadata": {
    "id": "6Vwxh7H2UyT4"
   },
   "source": [
    " Computing Term Frequency (TF)"
   ]
  },
  {
   "cell_type": "code",
   "execution_count": 20,
   "metadata": {
    "executionInfo": {
     "elapsed": 515,
     "status": "ok",
     "timestamp": 1713093460564,
     "user": {
      "displayName": "Balasaheb Hinge",
      "userId": "07326279445614467951"
     },
     "user_tz": -330
    },
    "id": "7UBNlx8vUswh"
   },
   "outputs": [],
   "source": [
    "def computeTF(wordDict, bagOfWords):\n",
    "  tfDict = {}\n",
    "  bagOfWordsCount = len(bagOfWords)\n",
    "  for word, count in wordDict.items():\n",
    "    tfDict[word] = count / float(bagOfWordsCount)\n",
    "  return tfDict"
   ]
  },
  {
   "cell_type": "code",
   "execution_count": 21,
   "metadata": {
    "executionInfo": {
     "elapsed": 506,
     "status": "ok",
     "timestamp": 1713093485238,
     "user": {
      "displayName": "Balasaheb Hinge",
      "userId": "07326279445614467951"
     },
     "user_tz": -330
    },
    "id": "b-ywLDPCU-ti"
   },
   "outputs": [],
   "source": [
    "tfA = computeTF(numOfWordsA, bagOfWordsA)\n",
    "tfB = computeTF(numOfWordsB, bagOfWordsB)"
   ]
  },
  {
   "cell_type": "code",
   "execution_count": 22,
   "metadata": {
    "colab": {
     "base_uri": "https://localhost:8080/"
    },
    "executionInfo": {
     "elapsed": 18,
     "status": "ok",
     "timestamp": 1713093498211,
     "user": {
      "displayName": "Balasaheb Hinge",
      "userId": "07326279445614467951"
     },
     "user_tz": -330
    },
    "id": "XOGSpgNDVES0",
    "outputId": "42cca944-cf1e-433a-ab59-bcb0b3934de4"
   },
   "outputs": [
    {
     "data": {
      "text/plain": [
       "{'its': 0.05263157894736842,\n",
       " 'The': 0.05263157894736842,\n",
       " 'tree': 0.05263157894736842,\n",
       " 'old': 0.05263157894736842,\n",
       " 'reaching': 0.05263157894736842,\n",
       " 'as': 0.0,\n",
       " 'voices': 0.0,\n",
       " 'in': 0.05263157894736842,\n",
       " 'branches': 0.05263157894736842,\n",
       " 'out': 0.05263157894736842,\n",
       " 'joyfully': 0.0,\n",
       " 'tall': 0.05263157894736842,\n",
       " 'children': 0.0,\n",
       " 'middle': 0.05263157894736842,\n",
       " 'ancient': 0.05263157894736842,\n",
       " 'fingers': 0.05263157894736842,\n",
       " 'forest,': 0.05263157894736842,\n",
       " 'like': 0.05263157894736842,\n",
       " 'trees': 0.0,\n",
       " 'the': 0.10526315789473684,\n",
       " 'their': 0.0,\n",
       " 'played': 0.0,\n",
       " 'they': 0.0,\n",
       " 'of': 0.05263157894736842,\n",
       " 'through': 0.0,\n",
       " 'park,': 0.0,\n",
       " 'laughed': 0.0,\n",
       " 'stood': 0.05263157894736842,\n",
       " 'echoing': 0.0,\n",
       " 'oak': 0.05263157894736842}"
      ]
     },
     "execution_count": 22,
     "metadata": {},
     "output_type": "execute_result"
    }
   ],
   "source": [
    "tfA"
   ]
  },
  {
   "cell_type": "code",
   "execution_count": 23,
   "metadata": {
    "colab": {
     "base_uri": "https://localhost:8080/"
    },
    "executionInfo": {
     "elapsed": 13,
     "status": "ok",
     "timestamp": 1713093511980,
     "user": {
      "displayName": "Balasaheb Hinge",
      "userId": "07326279445614467951"
     },
     "user_tz": -330
    },
    "id": "H_07sZIlVE7o",
    "outputId": "4a94d3f2-9e72-4367-86d1-2554329da46b"
   },
   "outputs": [
    {
     "data": {
      "text/plain": [
       "{'its': 0.0,\n",
       " 'The': 0.0625,\n",
       " 'tree': 0.0,\n",
       " 'old': 0.0,\n",
       " 'reaching': 0.0,\n",
       " 'as': 0.0625,\n",
       " 'voices': 0.0625,\n",
       " 'in': 0.0625,\n",
       " 'branches': 0.0,\n",
       " 'out': 0.0,\n",
       " 'joyfully': 0.0625,\n",
       " 'tall': 0.0,\n",
       " 'children': 0.0625,\n",
       " 'middle': 0.0,\n",
       " 'ancient': 0.0,\n",
       " 'fingers': 0.0,\n",
       " 'forest,': 0.0,\n",
       " 'like': 0.0,\n",
       " 'trees': 0.0625,\n",
       " 'the': 0.125,\n",
       " 'their': 0.0625,\n",
       " 'played': 0.0625,\n",
       " 'they': 0.0625,\n",
       " 'of': 0.0,\n",
       " 'through': 0.0625,\n",
       " 'park,': 0.0625,\n",
       " 'laughed': 0.0625,\n",
       " 'stood': 0.0,\n",
       " 'echoing': 0.0625,\n",
       " 'oak': 0.0}"
      ]
     },
     "execution_count": 23,
     "metadata": {},
     "output_type": "execute_result"
    }
   ],
   "source": [
    "tfB"
   ]
  },
  {
   "cell_type": "markdown",
   "metadata": {
    "id": "Pw4798nLVLvV"
   },
   "source": [
    " Computing Inverse Document Frequency (IDF)"
   ]
  },
  {
   "cell_type": "code",
   "execution_count": 24,
   "metadata": {
    "colab": {
     "base_uri": "https://localhost:8080/"
    },
    "executionInfo": {
     "elapsed": 18,
     "status": "ok",
     "timestamp": 1713093575672,
     "user": {
      "displayName": "Balasaheb Hinge",
      "userId": "07326279445614467951"
     },
     "user_tz": -330
    },
    "id": "h2dSNZLUVIfh",
    "outputId": "030e986d-6a94-4118-8603-550be9c16ca6"
   },
   "outputs": [
    {
     "data": {
      "text/plain": [
       "{'its': 0.6931471805599453,\n",
       " 'The': 0.0,\n",
       " 'tree': 0.6931471805599453,\n",
       " 'old': 0.6931471805599453,\n",
       " 'reaching': 0.6931471805599453,\n",
       " 'as': 0.6931471805599453,\n",
       " 'voices': 0.6931471805599453,\n",
       " 'in': 0.0,\n",
       " 'branches': 0.6931471805599453,\n",
       " 'out': 0.6931471805599453,\n",
       " 'joyfully': 0.6931471805599453,\n",
       " 'tall': 0.6931471805599453,\n",
       " 'children': 0.6931471805599453,\n",
       " 'middle': 0.6931471805599453,\n",
       " 'ancient': 0.6931471805599453,\n",
       " 'fingers': 0.6931471805599453,\n",
       " 'forest,': 0.6931471805599453,\n",
       " 'like': 0.6931471805599453,\n",
       " 'trees': 0.6931471805599453,\n",
       " 'the': 0.0,\n",
       " 'their': 0.6931471805599453,\n",
       " 'played': 0.6931471805599453,\n",
       " 'they': 0.6931471805599453,\n",
       " 'of': 0.6931471805599453,\n",
       " 'through': 0.6931471805599453,\n",
       " 'park,': 0.6931471805599453,\n",
       " 'laughed': 0.6931471805599453,\n",
       " 'stood': 0.6931471805599453,\n",
       " 'echoing': 0.6931471805599453,\n",
       " 'oak': 0.6931471805599453}"
      ]
     },
     "execution_count": 24,
     "metadata": {},
     "output_type": "execute_result"
    }
   ],
   "source": [
    "def computeIDF(documents):\n",
    "  import math\n",
    "  N = len(documents)\n",
    "  idfDict = dict.fromkeys(documents[0].keys(), 0)\n",
    "  for document in documents:\n",
    "    for word, val in document.items():\n",
    "      if val > 0:\n",
    "        idfDict[word] += 1\n",
    "\n",
    "  for word, val in idfDict.items():\n",
    "    idfDict[word] = math.log(N / float(val))\n",
    "  return idfDict\n",
    "idfs = computeIDF([numOfWordsA, numOfWordsB])\n",
    "idfs"
   ]
  },
  {
   "cell_type": "markdown",
   "metadata": {
    "id": "hiO8M9f4VcpY"
   },
   "source": [
    "Computing Term Frequency-Inverse Document Frequency (TF/IDF)"
   ]
  },
  {
   "cell_type": "code",
   "execution_count": 25,
   "metadata": {
    "colab": {
     "base_uri": "https://localhost:8080/",
     "height": 161
    },
    "executionInfo": {
     "elapsed": 28,
     "status": "ok",
     "timestamp": 1713093704084,
     "user": {
      "displayName": "Balasaheb Hinge",
      "userId": "07326279445614467951"
     },
     "user_tz": -330
    },
    "id": "exjkMxxnVZGq",
    "outputId": "3dcffd52-f8ae-47cf-804d-15c7aebfd4ee"
   },
   "outputs": [
    {
     "data": {
      "application/vnd.google.colaboratory.intrinsic+json": {
       "type": "dataframe",
       "variable_name": "df"
      },
      "text/html": [
       "\n",
       "  <div id=\"df-247079ef-4c0c-4950-895c-b20c718dcb42\" class=\"colab-df-container\">\n",
       "    <div>\n",
       "<style scoped>\n",
       "    .dataframe tbody tr th:only-of-type {\n",
       "        vertical-align: middle;\n",
       "    }\n",
       "\n",
       "    .dataframe tbody tr th {\n",
       "        vertical-align: top;\n",
       "    }\n",
       "\n",
       "    .dataframe thead th {\n",
       "        text-align: right;\n",
       "    }\n",
       "</style>\n",
       "<table border=\"1\" class=\"dataframe\">\n",
       "  <thead>\n",
       "    <tr style=\"text-align: right;\">\n",
       "      <th></th>\n",
       "      <th>its</th>\n",
       "      <th>The</th>\n",
       "      <th>tree</th>\n",
       "      <th>old</th>\n",
       "      <th>reaching</th>\n",
       "      <th>as</th>\n",
       "      <th>voices</th>\n",
       "      <th>in</th>\n",
       "      <th>branches</th>\n",
       "      <th>out</th>\n",
       "      <th>...</th>\n",
       "      <th>their</th>\n",
       "      <th>played</th>\n",
       "      <th>they</th>\n",
       "      <th>of</th>\n",
       "      <th>through</th>\n",
       "      <th>park,</th>\n",
       "      <th>laughed</th>\n",
       "      <th>stood</th>\n",
       "      <th>echoing</th>\n",
       "      <th>oak</th>\n",
       "    </tr>\n",
       "  </thead>\n",
       "  <tbody>\n",
       "    <tr>\n",
       "      <th>0</th>\n",
       "      <td>0.036481</td>\n",
       "      <td>0.0</td>\n",
       "      <td>0.036481</td>\n",
       "      <td>0.036481</td>\n",
       "      <td>0.036481</td>\n",
       "      <td>0.000000</td>\n",
       "      <td>0.000000</td>\n",
       "      <td>0.0</td>\n",
       "      <td>0.036481</td>\n",
       "      <td>0.036481</td>\n",
       "      <td>...</td>\n",
       "      <td>0.000000</td>\n",
       "      <td>0.000000</td>\n",
       "      <td>0.000000</td>\n",
       "      <td>0.036481</td>\n",
       "      <td>0.000000</td>\n",
       "      <td>0.000000</td>\n",
       "      <td>0.000000</td>\n",
       "      <td>0.036481</td>\n",
       "      <td>0.000000</td>\n",
       "      <td>0.036481</td>\n",
       "    </tr>\n",
       "    <tr>\n",
       "      <th>1</th>\n",
       "      <td>0.000000</td>\n",
       "      <td>0.0</td>\n",
       "      <td>0.000000</td>\n",
       "      <td>0.000000</td>\n",
       "      <td>0.000000</td>\n",
       "      <td>0.043322</td>\n",
       "      <td>0.043322</td>\n",
       "      <td>0.0</td>\n",
       "      <td>0.000000</td>\n",
       "      <td>0.000000</td>\n",
       "      <td>...</td>\n",
       "      <td>0.043322</td>\n",
       "      <td>0.043322</td>\n",
       "      <td>0.043322</td>\n",
       "      <td>0.000000</td>\n",
       "      <td>0.043322</td>\n",
       "      <td>0.043322</td>\n",
       "      <td>0.043322</td>\n",
       "      <td>0.000000</td>\n",
       "      <td>0.043322</td>\n",
       "      <td>0.000000</td>\n",
       "    </tr>\n",
       "  </tbody>\n",
       "</table>\n",
       "<p>2 rows × 30 columns</p>\n",
       "</div>\n",
       "    <div class=\"colab-df-buttons\">\n",
       "\n",
       "  <div class=\"colab-df-container\">\n",
       "    <button class=\"colab-df-convert\" onclick=\"convertToInteractive('df-247079ef-4c0c-4950-895c-b20c718dcb42')\"\n",
       "            title=\"Convert this dataframe to an interactive table.\"\n",
       "            style=\"display:none;\">\n",
       "\n",
       "  <svg xmlns=\"http://www.w3.org/2000/svg\" height=\"24px\" viewBox=\"0 -960 960 960\">\n",
       "    <path d=\"M120-120v-720h720v720H120Zm60-500h600v-160H180v160Zm220 220h160v-160H400v160Zm0 220h160v-160H400v160ZM180-400h160v-160H180v160Zm440 0h160v-160H620v160ZM180-180h160v-160H180v160Zm440 0h160v-160H620v160Z\"/>\n",
       "  </svg>\n",
       "    </button>\n",
       "\n",
       "  <style>\n",
       "    .colab-df-container {\n",
       "      display:flex;\n",
       "      gap: 12px;\n",
       "    }\n",
       "\n",
       "    .colab-df-convert {\n",
       "      background-color: #E8F0FE;\n",
       "      border: none;\n",
       "      border-radius: 50%;\n",
       "      cursor: pointer;\n",
       "      display: none;\n",
       "      fill: #1967D2;\n",
       "      height: 32px;\n",
       "      padding: 0 0 0 0;\n",
       "      width: 32px;\n",
       "    }\n",
       "\n",
       "    .colab-df-convert:hover {\n",
       "      background-color: #E2EBFA;\n",
       "      box-shadow: 0px 1px 2px rgba(60, 64, 67, 0.3), 0px 1px 3px 1px rgba(60, 64, 67, 0.15);\n",
       "      fill: #174EA6;\n",
       "    }\n",
       "\n",
       "    .colab-df-buttons div {\n",
       "      margin-bottom: 4px;\n",
       "    }\n",
       "\n",
       "    [theme=dark] .colab-df-convert {\n",
       "      background-color: #3B4455;\n",
       "      fill: #D2E3FC;\n",
       "    }\n",
       "\n",
       "    [theme=dark] .colab-df-convert:hover {\n",
       "      background-color: #434B5C;\n",
       "      box-shadow: 0px 1px 3px 1px rgba(0, 0, 0, 0.15);\n",
       "      filter: drop-shadow(0px 1px 2px rgba(0, 0, 0, 0.3));\n",
       "      fill: #FFFFFF;\n",
       "    }\n",
       "  </style>\n",
       "\n",
       "    <script>\n",
       "      const buttonEl =\n",
       "        document.querySelector('#df-247079ef-4c0c-4950-895c-b20c718dcb42 button.colab-df-convert');\n",
       "      buttonEl.style.display =\n",
       "        google.colab.kernel.accessAllowed ? 'block' : 'none';\n",
       "\n",
       "      async function convertToInteractive(key) {\n",
       "        const element = document.querySelector('#df-247079ef-4c0c-4950-895c-b20c718dcb42');\n",
       "        const dataTable =\n",
       "          await google.colab.kernel.invokeFunction('convertToInteractive',\n",
       "                                                    [key], {});\n",
       "        if (!dataTable) return;\n",
       "\n",
       "        const docLinkHtml = 'Like what you see? Visit the ' +\n",
       "          '<a target=\"_blank\" href=https://colab.research.google.com/notebooks/data_table.ipynb>data table notebook</a>'\n",
       "          + ' to learn more about interactive tables.';\n",
       "        element.innerHTML = '';\n",
       "        dataTable['output_type'] = 'display_data';\n",
       "        await google.colab.output.renderOutput(dataTable, element);\n",
       "        const docLink = document.createElement('div');\n",
       "        docLink.innerHTML = docLinkHtml;\n",
       "        element.appendChild(docLink);\n",
       "      }\n",
       "    </script>\n",
       "  </div>\n",
       "\n",
       "\n",
       "<div id=\"df-547fce20-4241-4e0e-84e3-953b8bc7d99f\">\n",
       "  <button class=\"colab-df-quickchart\" onclick=\"quickchart('df-547fce20-4241-4e0e-84e3-953b8bc7d99f')\"\n",
       "            title=\"Suggest charts\"\n",
       "            style=\"display:none;\">\n",
       "\n",
       "<svg xmlns=\"http://www.w3.org/2000/svg\" height=\"24px\"viewBox=\"0 0 24 24\"\n",
       "     width=\"24px\">\n",
       "    <g>\n",
       "        <path d=\"M19 3H5c-1.1 0-2 .9-2 2v14c0 1.1.9 2 2 2h14c1.1 0 2-.9 2-2V5c0-1.1-.9-2-2-2zM9 17H7v-7h2v7zm4 0h-2V7h2v10zm4 0h-2v-4h2v4z\"/>\n",
       "    </g>\n",
       "</svg>\n",
       "  </button>\n",
       "\n",
       "<style>\n",
       "  .colab-df-quickchart {\n",
       "      --bg-color: #E8F0FE;\n",
       "      --fill-color: #1967D2;\n",
       "      --hover-bg-color: #E2EBFA;\n",
       "      --hover-fill-color: #174EA6;\n",
       "      --disabled-fill-color: #AAA;\n",
       "      --disabled-bg-color: #DDD;\n",
       "  }\n",
       "\n",
       "  [theme=dark] .colab-df-quickchart {\n",
       "      --bg-color: #3B4455;\n",
       "      --fill-color: #D2E3FC;\n",
       "      --hover-bg-color: #434B5C;\n",
       "      --hover-fill-color: #FFFFFF;\n",
       "      --disabled-bg-color: #3B4455;\n",
       "      --disabled-fill-color: #666;\n",
       "  }\n",
       "\n",
       "  .colab-df-quickchart {\n",
       "    background-color: var(--bg-color);\n",
       "    border: none;\n",
       "    border-radius: 50%;\n",
       "    cursor: pointer;\n",
       "    display: none;\n",
       "    fill: var(--fill-color);\n",
       "    height: 32px;\n",
       "    padding: 0;\n",
       "    width: 32px;\n",
       "  }\n",
       "\n",
       "  .colab-df-quickchart:hover {\n",
       "    background-color: var(--hover-bg-color);\n",
       "    box-shadow: 0 1px 2px rgba(60, 64, 67, 0.3), 0 1px 3px 1px rgba(60, 64, 67, 0.15);\n",
       "    fill: var(--button-hover-fill-color);\n",
       "  }\n",
       "\n",
       "  .colab-df-quickchart-complete:disabled,\n",
       "  .colab-df-quickchart-complete:disabled:hover {\n",
       "    background-color: var(--disabled-bg-color);\n",
       "    fill: var(--disabled-fill-color);\n",
       "    box-shadow: none;\n",
       "  }\n",
       "\n",
       "  .colab-df-spinner {\n",
       "    border: 2px solid var(--fill-color);\n",
       "    border-color: transparent;\n",
       "    border-bottom-color: var(--fill-color);\n",
       "    animation:\n",
       "      spin 1s steps(1) infinite;\n",
       "  }\n",
       "\n",
       "  @keyframes spin {\n",
       "    0% {\n",
       "      border-color: transparent;\n",
       "      border-bottom-color: var(--fill-color);\n",
       "      border-left-color: var(--fill-color);\n",
       "    }\n",
       "    20% {\n",
       "      border-color: transparent;\n",
       "      border-left-color: var(--fill-color);\n",
       "      border-top-color: var(--fill-color);\n",
       "    }\n",
       "    30% {\n",
       "      border-color: transparent;\n",
       "      border-left-color: var(--fill-color);\n",
       "      border-top-color: var(--fill-color);\n",
       "      border-right-color: var(--fill-color);\n",
       "    }\n",
       "    40% {\n",
       "      border-color: transparent;\n",
       "      border-right-color: var(--fill-color);\n",
       "      border-top-color: var(--fill-color);\n",
       "    }\n",
       "    60% {\n",
       "      border-color: transparent;\n",
       "      border-right-color: var(--fill-color);\n",
       "    }\n",
       "    80% {\n",
       "      border-color: transparent;\n",
       "      border-right-color: var(--fill-color);\n",
       "      border-bottom-color: var(--fill-color);\n",
       "    }\n",
       "    90% {\n",
       "      border-color: transparent;\n",
       "      border-bottom-color: var(--fill-color);\n",
       "    }\n",
       "  }\n",
       "</style>\n",
       "\n",
       "  <script>\n",
       "    async function quickchart(key) {\n",
       "      const quickchartButtonEl =\n",
       "        document.querySelector('#' + key + ' button');\n",
       "      quickchartButtonEl.disabled = true;  // To prevent multiple clicks.\n",
       "      quickchartButtonEl.classList.add('colab-df-spinner');\n",
       "      try {\n",
       "        const charts = await google.colab.kernel.invokeFunction(\n",
       "            'suggestCharts', [key], {});\n",
       "      } catch (error) {\n",
       "        console.error('Error during call to suggestCharts:', error);\n",
       "      }\n",
       "      quickchartButtonEl.classList.remove('colab-df-spinner');\n",
       "      quickchartButtonEl.classList.add('colab-df-quickchart-complete');\n",
       "    }\n",
       "    (() => {\n",
       "      let quickchartButtonEl =\n",
       "        document.querySelector('#df-547fce20-4241-4e0e-84e3-953b8bc7d99f button');\n",
       "      quickchartButtonEl.style.display =\n",
       "        google.colab.kernel.accessAllowed ? 'block' : 'none';\n",
       "    })();\n",
       "  </script>\n",
       "</div>\n",
       "\n",
       "  <div id=\"id_808560b2-824a-4eda-8339-f9765a10ee8b\">\n",
       "    <style>\n",
       "      .colab-df-generate {\n",
       "        background-color: #E8F0FE;\n",
       "        border: none;\n",
       "        border-radius: 50%;\n",
       "        cursor: pointer;\n",
       "        display: none;\n",
       "        fill: #1967D2;\n",
       "        height: 32px;\n",
       "        padding: 0 0 0 0;\n",
       "        width: 32px;\n",
       "      }\n",
       "\n",
       "      .colab-df-generate:hover {\n",
       "        background-color: #E2EBFA;\n",
       "        box-shadow: 0px 1px 2px rgba(60, 64, 67, 0.3), 0px 1px 3px 1px rgba(60, 64, 67, 0.15);\n",
       "        fill: #174EA6;\n",
       "      }\n",
       "\n",
       "      [theme=dark] .colab-df-generate {\n",
       "        background-color: #3B4455;\n",
       "        fill: #D2E3FC;\n",
       "      }\n",
       "\n",
       "      [theme=dark] .colab-df-generate:hover {\n",
       "        background-color: #434B5C;\n",
       "        box-shadow: 0px 1px 3px 1px rgba(0, 0, 0, 0.15);\n",
       "        filter: drop-shadow(0px 1px 2px rgba(0, 0, 0, 0.3));\n",
       "        fill: #FFFFFF;\n",
       "      }\n",
       "    </style>\n",
       "    <button class=\"colab-df-generate\" onclick=\"generateWithVariable('df')\"\n",
       "            title=\"Generate code using this dataframe.\"\n",
       "            style=\"display:none;\">\n",
       "\n",
       "  <svg xmlns=\"http://www.w3.org/2000/svg\" height=\"24px\"viewBox=\"0 0 24 24\"\n",
       "       width=\"24px\">\n",
       "    <path d=\"M7,19H8.4L18.45,9,17,7.55,7,17.6ZM5,21V16.75L18.45,3.32a2,2,0,0,1,2.83,0l1.4,1.43a1.91,1.91,0,0,1,.58,1.4,1.91,1.91,0,0,1-.58,1.4L9.25,21ZM18.45,9,17,7.55Zm-12,3A5.31,5.31,0,0,0,4.9,8.1,5.31,5.31,0,0,0,1,6.5,5.31,5.31,0,0,0,4.9,4.9,5.31,5.31,0,0,0,6.5,1,5.31,5.31,0,0,0,8.1,4.9,5.31,5.31,0,0,0,12,6.5,5.46,5.46,0,0,0,6.5,12Z\"/>\n",
       "  </svg>\n",
       "    </button>\n",
       "    <script>\n",
       "      (() => {\n",
       "      const buttonEl =\n",
       "        document.querySelector('#id_808560b2-824a-4eda-8339-f9765a10ee8b button.colab-df-generate');\n",
       "      buttonEl.style.display =\n",
       "        google.colab.kernel.accessAllowed ? 'block' : 'none';\n",
       "\n",
       "      buttonEl.onclick = () => {\n",
       "        google.colab.notebook.generateWithVariable('df');\n",
       "      }\n",
       "      })();\n",
       "    </script>\n",
       "  </div>\n",
       "\n",
       "    </div>\n",
       "  </div>\n"
      ],
      "text/plain": [
       "        its  The      tree       old  reaching        as    voices   in  \\\n",
       "0  0.036481  0.0  0.036481  0.036481  0.036481  0.000000  0.000000  0.0   \n",
       "1  0.000000  0.0  0.000000  0.000000  0.000000  0.043322  0.043322  0.0   \n",
       "\n",
       "   branches       out  ...     their    played      they        of   through  \\\n",
       "0  0.036481  0.036481  ...  0.000000  0.000000  0.000000  0.036481  0.000000   \n",
       "1  0.000000  0.000000  ...  0.043322  0.043322  0.043322  0.000000  0.043322   \n",
       "\n",
       "      park,   laughed     stood   echoing       oak  \n",
       "0  0.000000  0.000000  0.036481  0.000000  0.036481  \n",
       "1  0.043322  0.043322  0.000000  0.043322  0.000000  \n",
       "\n",
       "[2 rows x 30 columns]"
      ]
     },
     "execution_count": 25,
     "metadata": {},
     "output_type": "execute_result"
    }
   ],
   "source": [
    "def computeTFIDF(tfBagOfWords, idfs):\n",
    "  tfidf = {}\n",
    "  for word, val in tfBagOfWords.items():\n",
    "    tfidf[word] = val * idfs[word]\n",
    "  return tfidf\n",
    "\n",
    "tfidfA = computeTFIDF(tfA, idfs)\n",
    "tfidfB = computeTFIDF(tfB, idfs)\n",
    "df = pd.DataFrame([tfidfA, tfidfB])\n",
    "df"
   ]
  }
 ],
 "metadata": {
  "colab": {
   "authorship_tag": "ABX9TyO0PHK/LDFRb2BKVrCIy9KV",
   "provenance": []
  },
  "kernelspec": {
   "display_name": "Python 3 (ipykernel)",
   "language": "python",
   "name": "python3"
  },
  "language_info": {
   "codemirror_mode": {
    "name": "ipython",
    "version": 3
   },
   "file_extension": ".py",
   "mimetype": "text/x-python",
   "name": "python",
   "nbconvert_exporter": "python",
   "pygments_lexer": "ipython3",
   "version": "3.11.7"
  }
 },
 "nbformat": 4,
 "nbformat_minor": 4
}
